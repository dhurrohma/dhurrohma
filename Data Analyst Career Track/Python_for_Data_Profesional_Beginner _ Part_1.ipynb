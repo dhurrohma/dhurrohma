{
  "nbformat": 4,
  "nbformat_minor": 0,
  "metadata": {
    "colab": {
      "name": "Python_for_Data_Profesional_Beginner _ Part_1.ipynb",
      "provenance": [],
      "collapsed_sections": [],
      "authorship_tag": "ABX9TyOA6TIuWNSeZQPE34xzKebq",
      "include_colab_link": true
    },
    "kernelspec": {
      "name": "python3",
      "display_name": "Python 3"
    },
    "language_info": {
      "name": "python"
    }
  },
  "cells": [
    {
      "cell_type": "markdown",
      "metadata": {
        "id": "view-in-github",
        "colab_type": "text"
      },
      "source": [
        "<a href=\"https://colab.research.google.com/github/dhurrohma/dhurrohma/blob/main/Python_for_Data_Profesional_Beginner%E2%80%8A_%E2%80%8APart_1.ipynb\" target=\"_parent\"><img src=\"https://colab.research.google.com/assets/colab-badge.svg\" alt=\"Open In Colab\"/></a>"
      ]
    },
    {
      "cell_type": "code",
      "execution_count": 51,
      "metadata": {
        "colab": {
          "base_uri": "https://localhost:8080/"
        },
        "id": "D-0pH5weOs5e",
        "outputId": "85d0bf2d-6209-43d5-8b5e-74c629c5751d"
      },
      "outputs": [
        {
          "output_type": "stream",
          "name": "stdout",
          "text": [
            "Hi, I'm Rohma.\n",
            "Saya sedang belajar Python\n"
          ]
        }
      ],
      "source": [
        "print(\"Hi, I'm Rohma.\")\n",
        "print(\"Saya sedang belajar Python\")"
      ]
    },
    {
      "cell_type": "code",
      "source": [
        "#Statement\n",
        "print(\"Hi, I'm Rohma\")\n",
        "print(\"I'm learning Python\")\n",
        "print(\"Nice to meet you\")\n",
        "print(' ')\n",
        "#Variables dan Literals\n",
        "A = 11\n",
        "B = 1\n",
        "C = \"Have a nice day\"\n",
        "#Operators\n",
        "print(A + B)"
      ],
      "metadata": {
        "colab": {
          "base_uri": "https://localhost:8080/"
        },
        "id": "8CWusbtnT2lY",
        "outputId": "dc0f31ff-d78c-417e-ba46-474b5552ebc2"
      },
      "execution_count": 52,
      "outputs": [
        {
          "output_type": "stream",
          "name": "stdout",
          "text": [
            "Hi, I'm Rohma\n",
            "I'm learning Python\n",
            "Nice to meet you\n",
            " \n",
            "12\n"
          ]
        }
      ]
    },
    {
      "cell_type": "code",
      "source": [
        "C = 13\n",
        "D = 21\n",
        "print(C * D)"
      ],
      "metadata": {
        "colab": {
          "base_uri": "https://localhost:8080/"
        },
        "id": "X8RBXONhaarE",
        "outputId": "b4d5fc82-8a9a-4667-bc93-248c7f79b47c"
      },
      "execution_count": 53,
      "outputs": [
        {
          "output_type": "stream",
          "name": "stdout",
          "text": [
            "273\n"
          ]
        }
      ]
    },
    {
      "cell_type": "code",
      "source": [
        "harga_awal = 19000\n",
        "diskon = 7600\n",
        "harga_setelah_diskon = harga_awal - diskon\n",
        "dibayar = harga_setelah_diskon + (harga_setelah_diskon * 0.1)\n",
        "print(\"Harga yang harus dibayar:\")\n",
        "print(dibayar)"
      ],
      "metadata": {
        "colab": {
          "base_uri": "https://localhost:8080/"
        },
        "id": "S2IHeg7JdOxE",
        "outputId": "5511ad7f-6626-4482-eee0-c7d1880e9b4d"
      },
      "execution_count": 54,
      "outputs": [
        {
          "output_type": "stream",
          "name": "stdout",
          "text": [
            "Harga yang harus dibayar:\n",
            "12540.0\n"
          ]
        }
      ]
    },
    {
      "cell_type": "code",
      "source": [
        "data_list = [7, 'delapan', 9, 10.0, 11]\n",
        "print(data_list[0])\n",
        "print(data_list[1])\n",
        "data_list[1] = 'lima'\n",
        "print(' ')\n",
        "print(data_list[1])"
      ],
      "metadata": {
        "colab": {
          "base_uri": "https://localhost:8080/"
        },
        "id": "X6tIyy916gyo",
        "outputId": "2af23957-4979-4dbb-bc59-872cb81f9fd3"
      },
      "execution_count": 55,
      "outputs": [
        {
          "output_type": "stream",
          "name": "stdout",
          "text": [
            "7\n",
            "delapan\n",
            " \n",
            "lima\n"
          ]
        }
      ]
    },
    {
      "cell_type": "code",
      "source": [
        "data_tuple = ('Juli', 'Agustus', 'September', 'Oktober')\n",
        "print(data_tuple[0])"
      ],
      "metadata": {
        "colab": {
          "base_uri": "https://localhost:8080/"
        },
        "id": "MwaoySLK_7rI",
        "outputId": "8dea589b-85b3-46d5-9202-d2a3a283c568"
      },
      "execution_count": 56,
      "outputs": [
        {
          "output_type": "stream",
          "name": "stdout",
          "text": [
            "Juli\n"
          ]
        }
      ]
    },
    {
      "cell_type": "code",
      "source": [
        "data_list1 = ['Evan', 'Rohma', 'Nia', 'Evan', 'Tono']\n",
        "print(data_list1)"
      ],
      "metadata": {
        "colab": {
          "base_uri": "https://localhost:8080/"
        },
        "id": "hHW5OX4EGJot",
        "outputId": "11311a61-d92a-4b64-cd01-d29d2fe3260e"
      },
      "execution_count": 57,
      "outputs": [
        {
          "output_type": "stream",
          "name": "stdout",
          "text": [
            "['Evan', 'Rohma', 'Nia', 'Evan', 'Tono']\n"
          ]
        }
      ]
    },
    {
      "cell_type": "code",
      "source": [
        "data_set = {'Evan', 'Rohma', 'Nia', 'Evan', 'Tono'}\n",
        "print(data_set)"
      ],
      "metadata": {
        "colab": {
          "base_uri": "https://localhost:8080/"
        },
        "id": "nLj1qZsFHzFs",
        "outputId": "d74a18ec-65fa-4d1c-a072-4ec6f1a575b4"
      },
      "execution_count": 58,
      "outputs": [
        {
          "output_type": "stream",
          "name": "stdout",
          "text": [
            "{'Rohma', 'Evan', 'Nia', 'Tono'}\n"
          ]
        }
      ]
    },
    {
      "cell_type": "code",
      "source": [
        "data_frozenset = ({'Evan', 'Rohma', 'Nia', 'Evan', 'Tono'})\n",
        "print(data_frozenset)"
      ],
      "metadata": {
        "colab": {
          "base_uri": "https://localhost:8080/"
        },
        "id": "ch2tOAKk4Phz",
        "outputId": "9e5697b4-8f4d-4e84-9a1a-e179583ba182"
      },
      "execution_count": 59,
      "outputs": [
        {
          "output_type": "stream",
          "name": "stdout",
          "text": [
            "{'Rohma', 'Evan', 'Nia', 'Tono'}\n"
          ]
        }
      ]
    },
    {
      "cell_type": "code",
      "source": [
        "biodata = {'nama': 'Rohma', 'asal perguruan tinggi' : 'Universitas Padjadjaran'}\n",
        "print(biodata['nama'])\n",
        "print(biodata['asal perguruan tinggi'])"
      ],
      "metadata": {
        "colab": {
          "base_uri": "https://localhost:8080/"
        },
        "id": "Le6WUIOv8XIN",
        "outputId": "6cd32031-f005-4034-a87e-be4961536473"
      },
      "execution_count": 60,
      "outputs": [
        {
          "output_type": "stream",
          "name": "stdout",
          "text": [
            "Rohma\n",
            "Universitas Padjadjaran\n"
          ]
        }
      ]
    },
    {
      "cell_type": "code",
      "source": [
        "Tas = {\"Nama\" : \"Tas Adidis Organizer\", \"Harga\" : 180000, \"Diskon\" : 16200}\n",
        "Foundation = {\"Nama\" : \"Foundation Wet N Child\", \"Harga\" : 150000, \"Diskon\" : 21000}\n",
        "Primer = {\"Nama\" : \"Primer Ajarine\", \"Harga\" : 110000, \"Diskon\" : 5500}\n",
        "\n",
        "Harga_Tas = Tas[\"Harga\"] - Tas[\"Diskon\"]\n",
        "Harga_Foundation = Foundation[\"Harga\"] - Foundation[\"Diskon\"]\n",
        "Harga_Primer = Primer[\"Harga\"] - Primer[\"Diskon\"]\n",
        "\n",
        "Harga_Total = Harga_Tas + Harga_Foundation + Harga_Primer\n",
        "Pajak = Harga_Total * 0.1\n",
        "\n",
        "print('Daftar barang yang dibeli:')\n",
        "print(Tas)\n",
        "print(Foundation)\n",
        "print(Primer)\n",
        "print('\\nTotal belanja:', Harga_Total + Pajak)"
      ],
      "metadata": {
        "colab": {
          "base_uri": "https://localhost:8080/"
        },
        "id": "OnEj73zn-TV0",
        "outputId": "b90a1f76-a310-4671-cbf2-7160b0445220"
      },
      "execution_count": 61,
      "outputs": [
        {
          "output_type": "stream",
          "name": "stdout",
          "text": [
            "Daftar barang yang dibeli:\n",
            "{'Nama': 'Tas Adidis Organizer', 'Harga': 180000, 'Diskon': 16200}\n",
            "{'Nama': 'Foundation Wet N Child', 'Harga': 150000, 'Diskon': 21000}\n",
            "{'Nama': 'Primer Ajarine', 'Harga': 110000, 'Diskon': 5500}\n",
            "\n",
            "Total belanja: 437030.0\n"
          ]
        }
      ]
    },
    {
      "cell_type": "code",
      "source": [
        "#Kode Awal\n",
        "total_harga = 200000\n",
        "diskon = 0.2\n",
        "pajak = 0.1\n",
        "bayar = 1 - diskon\n",
        "bayar *= total_harga\n",
        "total_pajak = pajak * bayar\n",
        "bayar += total_pajak\n",
        "print(\"Total pembayaran =\", bayar)"
      ],
      "metadata": {
        "colab": {
          "base_uri": "https://localhost:8080/"
        },
        "id": "VMST0OqHu4tO",
        "outputId": "78750b22-28fd-4e9c-93b0-1d0d650ea4f8"
      },
      "execution_count": 62,
      "outputs": [
        {
          "output_type": "stream",
          "name": "stdout",
          "text": [
            "Total pembayaran = 176000.0\n"
          ]
        }
      ]
    },
    {
      "cell_type": "code",
      "source": [
        "# Penyederhanaan baris kode dengan menerapkan prioritas operator\n",
        "total_harga = 200000\n",
        "diskon = 0.2\n",
        "pajak = 0.1\n",
        "bayar = (1 - diskon) * total_harga\n",
        "bayar += bayar * pajak\n",
        "print(\"Total pembayaran =\", bayar)"
      ],
      "metadata": {
        "colab": {
          "base_uri": "https://localhost:8080/"
        },
        "id": "VaTXA6CUymEa",
        "outputId": "f981a36f-9423-4941-d2ae-861d87bbf8f6"
      },
      "execution_count": 63,
      "outputs": [
        {
          "output_type": "stream",
          "name": "stdout",
          "text": [
            "Total pembayaran = 176000.0\n"
          ]
        }
      ]
    },
    {
      "cell_type": "code",
      "source": [
        "Tas = {\"Nama\" : \"Tas Adidis Organizer\", \"Harga\" : 180000, \"Diskon\" : 16200}\n",
        "Foundation = {\"Nama\" : \"Foundation Wet N Child\", \"Harga\" : 150000, \"Diskon\" : 21000}\n",
        "Primer = {\"Nama\" : \"Primer Ajarine\", \"Harga\" : 110000, \"Diskon\" : 5500}\n",
        "\n",
        "Harga_Tas = Tas[\"Harga\"] - Tas[\"Diskon\"]\n",
        "Harga_Foundation = Foundation[\"Harga\"] - Foundation[\"Diskon\"]\n",
        "Harga_Primer = Primer[\"Harga\"] - Primer[\"Diskon\"]\n",
        "\n",
        "Harga_Total = (Harga_Tas + Harga_Foundation + Harga_Primer) * 1.1\n",
        "\n",
        "print('Daftar barang yang dibeli:')\n",
        "print(Tas)\n",
        "print(Foundation)\n",
        "print(Primer)\n",
        "print('\\nTotal belanja:', Harga_Total)"
      ],
      "metadata": {
        "colab": {
          "base_uri": "https://localhost:8080/"
        },
        "id": "ArCeu3yPALpF",
        "outputId": "6d67ff3f-60c6-4ed4-fc53-db009b985904"
      },
      "execution_count": 64,
      "outputs": [
        {
          "output_type": "stream",
          "name": "stdout",
          "text": [
            "Daftar barang yang dibeli:\n",
            "{'Nama': 'Tas Adidis Organizer', 'Harga': 180000, 'Diskon': 16200}\n",
            "{'Nama': 'Foundation Wet N Child', 'Harga': 150000, 'Diskon': 21000}\n",
            "{'Nama': 'Primer Ajarine', 'Harga': 110000, 'Diskon': 5500}\n",
            "\n",
            "Total belanja: 437030.00000000006\n"
          ]
        }
      ]
    },
    {
      "cell_type": "code",
      "source": [
        "# Statement if\n",
        "x = 18\n",
        "if x % 2 == 0: # jika sisa bagi x dengan 2 sama dengan 0\n",
        "    print(\"x habis dibagi dua\") # statemen aksi lebih menjorok ke dalam"
      ],
      "metadata": {
        "colab": {
          "base_uri": "https://localhost:8080/"
        },
        "id": "lEi58IAiC4UK",
        "outputId": "19726c3e-e016-47aa-9dd8-64b522d9358e"
      },
      "execution_count": 65,
      "outputs": [
        {
          "output_type": "stream",
          "name": "stdout",
          "text": [
            "x habis dibagi dua\n"
          ]
        }
      ]
    },
    {
      "cell_type": "code",
      "source": [
        "# Statement if ... elif ... else\n",
        "x = 19\n",
        "if x % 2 == 0: # jika sisa bagi x dengan 2 sama dengan 0\n",
        "    print(\"x habis dibagi dua\")\n",
        "elif x % 3 == 0: # jika sisa bagi x dengan 3 sama dengan 0\n",
        "    print(\"x habis dibagi tiga\")\n",
        "elif x % 5 == 0: # jika sisa bagi x dengan 5 sama dengan 0\n",
        "    print(\"x habis dibagi lima\")\n",
        "else:\n",
        "    print(\"x tidak habis dibagi dua, tiga ataupun lima\")"
      ],
      "metadata": {
        "colab": {
          "base_uri": "https://localhost:8080/"
        },
        "id": "zEYbBvILD4-H",
        "outputId": "c5a43af5-87ad-4e72-a208-23e8746f4870"
      },
      "execution_count": 66,
      "outputs": [
        {
          "output_type": "stream",
          "name": "stdout",
          "text": [
            "x tidak habis dibagi dua, tiga ataupun lima\n"
          ]
        }
      ]
    },
    {
      "cell_type": "code",
      "source": [
        "jam = 6\n",
        "if jam >= 5 and jam < 12: # selama jam di antara 5 s.d. 12\n",
        "    print(\"Selamat pagi!\")\n",
        "elif jam >= 12 and jam < 17: # selama jam di antara 12 s.d. 17\n",
        "    print(\"Selamat siang!\")\n",
        "elif jam >= 17 and jam < 19: # selama jam di antara 17 s.d. 19\n",
        "    print(\"Selamat sore!\")\n",
        "else: # selain kondisi di atas\n",
        "    print(\"Selamat malam!\")"
      ],
      "metadata": {
        "colab": {
          "base_uri": "https://localhost:8080/"
        },
        "id": "J_wFFZIDGBVm",
        "outputId": "97dd51e3-8d60-4e79-86b0-8537be90ec8f"
      },
      "execution_count": 67,
      "outputs": [
        {
          "output_type": "stream",
          "name": "stdout",
          "text": [
            "Selamat pagi!\n"
          ]
        }
      ]
    },
    {
      "cell_type": "code",
      "source": [
        "jam = 14\n",
        "tagihan_ke = 'Mr. Oman'\n",
        "warehousing = { 'harga_harian': 1400000, 'total_hari':16 } \n",
        "cleansing = { 'harga_harian': 1000000, 'total_hari':11 } \n",
        "integration = { 'harga_harian':5000000, 'total_hari':20 } \n",
        "transform = { 'harga_harian':2500000, 'total_hari':21 }\n",
        "\n",
        "sub_warehousing = warehousing['harga_harian']*warehousing['total_hari'] \n",
        "sub_cleansing = cleansing['harga_harian']*cleansing['total_hari'] \n",
        "sub_integration = integration['harga_harian']*integration['total_hari'] \n",
        "sub_transform = transform['harga_harian']*transform['total_hari']\n",
        "\n",
        "total_harga = sub_warehousing+sub_cleansing+sub_integration+sub_transform\n",
        "\n",
        "print(\"Tagihan kepada:\")\n",
        "print(tagihan_ke)\n",
        "\n",
        "if jam > 19:\n",
        "    print(\"Selamat malam, anda harus membayar tagihan sebesar:\")\n",
        "elif jam > 17:\n",
        "    print(\"Selamat sore, anda harus membayar tagihan sebesar:\") \n",
        "elif jam > 12:\n",
        "    print(\"Selamat siang, anda harus membayar tagihan sebesar:\")\n",
        "else:\n",
        "    print(\"Selamat pagi, anda harus membayar tagihan sebesar:\") \n",
        "print(total_harga)"
      ],
      "metadata": {
        "colab": {
          "base_uri": "https://localhost:8080/"
        },
        "id": "woRIlajPIjTT",
        "outputId": "de05d94b-bbe4-4c37-beb4-6aee2f5805ed"
      },
      "execution_count": 68,
      "outputs": [
        {
          "output_type": "stream",
          "name": "stdout",
          "text": [
            "Tagihan kepada:\n",
            "Mr. Oman\n",
            "Selamat siang, anda harus membayar tagihan sebesar:\n",
            "185900000\n"
          ]
        }
      ]
    },
    {
      "cell_type": "code",
      "source": [
        "# Tagihan\n",
        "tagihan = [200000, 50000, 120000, 90000, 160000]\n",
        "# Tanpa menggunakan while loop\n",
        "total_tagihan = tagihan[0] + tagihan[1] + tagihan[2] + tagihan[3] + tagihan[4]\n",
        "print(total_tagihan)"
      ],
      "metadata": {
        "colab": {
          "base_uri": "https://localhost:8080/"
        },
        "id": "GFa7pdeMPNlK",
        "outputId": "d27ea834-78d9-45d8-afe7-273a2d6979f1"
      },
      "execution_count": 69,
      "outputs": [
        {
          "output_type": "stream",
          "name": "stdout",
          "text": [
            "620000\n"
          ]
        }
      ]
    },
    {
      "cell_type": "code",
      "source": [
        "# Tagihan\n",
        "tagihan = [200000, 50000, 120000, 90000, 160000]\n",
        "# Dengan menggunakan while loop\n",
        "i = 0 # sebuah variabel untuk mengakses setiap elemen tagihan satu per satu\n",
        "jumlah_tagihan = len(tagihan) # panjang (jumlah elemen dalam) list tagihan\n",
        "total_tagihan = 0 # mula-mula, set total_tagihan ke 0\n",
        "while i < jumlah_tagihan: # selama nilai i kurang dari jumlah_tagihan\n",
        "    total_tagihan += tagihan[i] # tambahkan tagihan[i] ke total_tagihan\n",
        "    i += 1 # tambahkan nilai i dengan 1 untuk memproses tagihan selanjutnya.\n",
        "print(total_tagihan)"
      ],
      "metadata": {
        "colab": {
          "base_uri": "https://localhost:8080/"
        },
        "id": "eLDZ_-RzRa_g",
        "outputId": "269c0508-449c-403e-e679-3044845fad3f"
      },
      "execution_count": 70,
      "outputs": [
        {
          "output_type": "stream",
          "name": "stdout",
          "text": [
            "620000\n"
          ]
        }
      ]
    },
    {
      "cell_type": "code",
      "source": [
        "tagihan = [110000, 200000, 140000, -50000, -140000, 200000, -90000]\n",
        "i = 0\n",
        "jumlah_tagihan = len(tagihan)\n",
        "total_tagihan = 0\n",
        "while i < jumlah_tagihan:\n",
        "    # jika terdapat tagihan ke-i yang bernilai minus (di bawah nol),\n",
        "    # pengulangan akan dihentikan\n",
        "    if tagihan[i] < 0:\n",
        "        total_tagihan = -1\n",
        "        print(\"terdapat angka minus dalam tagihan, perhitungan dihentikan!\")\n",
        "        break\n",
        "    total_tagihan += tagihan[i]\n",
        "    i += 1\n",
        "print(total_tagihan)"
      ],
      "metadata": {
        "colab": {
          "base_uri": "https://localhost:8080/"
        },
        "id": "l5YN7izFV4sz",
        "outputId": "db4fc380-5847-4b81-b32e-b167d54d7ade"
      },
      "execution_count": 71,
      "outputs": [
        {
          "output_type": "stream",
          "name": "stdout",
          "text": [
            "terdapat angka minus dalam tagihan, perhitungan dihentikan!\n",
            "-1\n"
          ]
        }
      ]
    },
    {
      "cell_type": "code",
      "source": [
        "tagihan = [110000, 200000, 140000, -50000, -140000, 200000, -90000]\n",
        "i = 0\n",
        "jumlah_tagihan = len(tagihan)\n",
        "total_tagihan = 0\n",
        "while i < jumlah_tagihan:\n",
        "    # jika terdapat tagihan ke-i yang bernilai minus (di bawah nol),\n",
        "    # abaikan tagihan ke-i dan lanjutkan ke tagihan berikutnya\n",
        "    if tagihan[i] < 0:\n",
        "        i += 1\n",
        "        continue\n",
        "    total_tagihan += tagihan[i]\n",
        "    i += 1\n",
        "print(total_tagihan)"
      ],
      "metadata": {
        "colab": {
          "base_uri": "https://localhost:8080/"
        },
        "id": "oz_01KxiY1A4",
        "outputId": "8423f5a3-5546-4354-f043-41c40582f21f"
      },
      "execution_count": 72,
      "outputs": [
        {
          "output_type": "stream",
          "name": "stdout",
          "text": [
            "650000\n"
          ]
        }
      ]
    },
    {
      "cell_type": "code",
      "source": [
        "list_tagihan = [110000, 200000, 140000, -50000, -140000, 200000, -90000]\n",
        "total_tagihan = 0\n",
        "for tagihan in list_tagihan: # untuk setiap tagihan dalam list_tagihan\n",
        "    total_tagihan += tagihan # tambahkan tagihan ke total_tagihan\n",
        "print(total_tagihan)"
      ],
      "metadata": {
        "colab": {
          "base_uri": "https://localhost:8080/"
        },
        "id": "bpWINOOIbI2S",
        "outputId": "5e024eee-931a-4189-800e-0cc5de30445e"
      },
      "execution_count": 73,
      "outputs": [
        {
          "output_type": "stream",
          "name": "stdout",
          "text": [
            "370000\n"
          ]
        }
      ]
    },
    {
      "cell_type": "code",
      "source": [
        "list_tagihan = [110000, 200000, 140000, -50000, -140000, 200000, -90000]\n",
        "\n",
        "# For loops with break\n",
        "print(\"For loops with break\")\n",
        "total_tagihan_break = 0\n",
        "for tagihan in list_tagihan:\n",
        "    if tagihan < 0:\n",
        "        print(\"Terdapat angka minus dalam tagihan, perhitungan dihentikan!\")\n",
        "        break\n",
        "    total_tagihan_break += tagihan\n",
        "print(\"Total tagihan %d.\" % total_tagihan_break)\n",
        "print()\n",
        "\n",
        "# For loops with continue\n",
        "print(\"For loops with continue\")\n",
        "total_tagihan_continue = 0\n",
        "for tagihan in list_tagihan:\n",
        "    if tagihan < 0:\n",
        "        print(\"Terdapat angka minus dalam tagihan, tagihan %d dilewati!\" % tagihan)\n",
        "        continue\n",
        "    total_tagihan_continue += tagihan\n",
        "print(\"Total tagihan %d.\" % total_tagihan_continue)"
      ],
      "metadata": {
        "colab": {
          "base_uri": "https://localhost:8080/"
        },
        "id": "QBz1F42_deUg",
        "outputId": "b2705fe7-583b-4808-9e21-57394b624e35"
      },
      "execution_count": 74,
      "outputs": [
        {
          "output_type": "stream",
          "name": "stdout",
          "text": [
            "For loops with break\n",
            "Terdapat angka minus dalam tagihan, perhitungan dihentikan!\n",
            "Total tagihan 450000.\n",
            "\n",
            "For loops with continue\n",
            "Terdapat angka minus dalam tagihan, tagihan -50000 dilewati!\n",
            "Terdapat angka minus dalam tagihan, tagihan -140000 dilewati!\n",
            "Terdapat angka minus dalam tagihan, tagihan -90000 dilewati!\n",
            "Total tagihan 650000.\n"
          ]
        }
      ]
    },
    {
      "cell_type": "code",
      "source": [
        "list_daerah = ['Tenggarong', 'Samarinda', 'Bontang']\n",
        "list_buah = ['Lemon', 'Mangga', 'Semangka']\n",
        "for nama_daerah in list_daerah:\n",
        "    for nama_buah in list_buah:\n",
        "        print(nama_buah+\" \"+nama_daerah)"
      ],
      "metadata": {
        "colab": {
          "base_uri": "https://localhost:8080/"
        },
        "id": "ozM1Pr7xjzzy",
        "outputId": "1ded5e1e-3d94-4b0f-f7d2-66ec73dec2dd"
      },
      "execution_count": 75,
      "outputs": [
        {
          "output_type": "stream",
          "name": "stdout",
          "text": [
            "Lemon Tenggarong\n",
            "Mangga Tenggarong\n",
            "Semangka Tenggarong\n",
            "Lemon Samarinda\n",
            "Mangga Samarinda\n",
            "Semangka Samarinda\n",
            "Lemon Bontang\n",
            "Mangga Bontang\n",
            "Semangka Bontang\n"
          ]
        }
      ]
    },
    {
      "cell_type": "code",
      "source": [
        "list_cash_flow = [1900000, 1200000, 1000000, -1000000, 3000000, -3000000, 2100000, 2000000, 9000000, 2000000, 1800000, -5000000]\n",
        "\n",
        "total_pengeluaran, total_pemasukan = 0, 0\n",
        "for dana in list_cash_flow:\n",
        "    if dana > 0:\n",
        "        total_pemasukan += dana\n",
        "    else:\n",
        "        total_pengeluaran += dana\n",
        "total_pengeluaran *= -1\n",
        "\n",
        "print('Total Pengeluaran Perusahaan:')\n",
        "print(total_pengeluaran) \n",
        "print('')\n",
        "print('Total Pemasukan Perusahaan:')\n",
        "print(total_pemasukan)"
      ],
      "metadata": {
        "colab": {
          "base_uri": "https://localhost:8080/"
        },
        "id": "9AIElEnHl-sO",
        "outputId": "14d3ce3e-7673-4b0e-fbb5-ec09b83721be"
      },
      "execution_count": 76,
      "outputs": [
        {
          "output_type": "stream",
          "name": "stdout",
          "text": [
            "Total Pengeluaran Perusahaan:\n",
            "9000000\n",
            "\n",
            "Total Pemasukan Perusahaan:\n",
            "24000000\n"
          ]
        }
      ]
    }
  ]
}
