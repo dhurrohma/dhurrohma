{
  "nbformat": 4,
  "nbformat_minor": 0,
  "metadata": {
    "colab": {
      "name": "String_Manipulation_with_Python.ipynb",
      "provenance": [],
      "authorship_tag": "ABX9TyNLFJtTj62z934znlg0tRw+",
      "include_colab_link": true
    },
    "kernelspec": {
      "name": "python3",
      "display_name": "Python 3"
    },
    "language_info": {
      "name": "python"
    }
  },
  "cells": [
    {
      "cell_type": "markdown",
      "metadata": {
        "id": "view-in-github",
        "colab_type": "text"
      },
      "source": [
        "<a href=\"https://colab.research.google.com/github/dhurrohma/dhurrohma/blob/main/String_Manipulation_with_Python.ipynb\" target=\"_parent\"><img src=\"https://colab.research.google.com/assets/colab-badge.svg\" alt=\"Open In Colab\"/></a>"
      ]
    },
    {
      "cell_type": "code",
      "execution_count": 18,
      "metadata": {
        "colab": {
          "base_uri": "https://localhost:8080/"
        },
        "id": "cw-fwAZ9b5tE",
        "outputId": "b487bafc-5779-47ff-91c5-324bb5d91c61"
      },
      "outputs": [
        {
          "output_type": "stream",
          "name": "stdout",
          "text": [
            "TaS dior\n",
            "TaS\n",
            "dior\n",
            "8\n"
          ]
        }
      ],
      "source": [
        "nama_produk = \"Tas Dior\"\n",
        "nama_produk = nama_produk[:2] + \"S\" + nama_produk[3:4] + \"d\" + nama_produk[-3:]\n",
        "print(nama_produk)\n",
        "print(nama_produk[:3])\n",
        "print(nama_produk[4:])\n",
        "print(len(nama_produk))"
      ]
    },
    {
      "cell_type": "code",
      "source": [
        "nama_depan = 'Rama'\n",
        "nama_belakang = 'Nugraha'\n",
        "nama_lengkap = nama_depan + ' ' + nama_belakang\n",
        "print(nama_lengkap)\n",
        "umur = '25 tahun'\n",
        "alamat = 'Jl. Tambang No. 118'\n",
        "nama_umur_alamat = 'Hi, saya ' + nama_lengkap + ' umur ' + umur + ', tinggal di ' + alamat + '.'\n",
        "print(nama_umur_alamat)"
      ],
      "metadata": {
        "colab": {
          "base_uri": "https://localhost:8080/"
        },
        "id": "NS67tIjuhi1T",
        "outputId": "47f5c0e0-5af8-4a1d-8bb2-ea816c420e01"
      },
      "execution_count": 19,
      "outputs": [
        {
          "output_type": "stream",
          "name": "stdout",
          "text": [
            "Rama Nugraha\n",
            "Hi, saya Rama Nugraha umur 25 tahun, tinggal di Jl. Tambang No. 118.\n"
          ]
        }
      ]
    },
    {
      "cell_type": "code",
      "source": [
        "print(\">>> Fitur .strip()\")\n",
        "kata_sambutan = ' halo, selamat malam! '\n",
        "kata_sambutan = kata_sambutan.strip()\n",
        "print(kata_sambutan)\n",
        "\n",
        "print('')\n",
        "print(\">>> Fitur .lstrip()\")\n",
        "kata_sambutan = ' halo, selamat malam! '\n",
        "kata_sambutan = kata_sambutan.lstrip()\n",
        "print(kata_sambutan)\n",
        "\n",
        "print('')\n",
        "print(\">>> Fitur .rstrip()\")\n",
        "kata_sambutan = ' halo, selamat malam! '\n",
        "kata_sambutan = kata_sambutan.rstrip()\n",
        "print(kata_sambutan)"
      ],
      "metadata": {
        "colab": {
          "base_uri": "https://localhost:8080/"
        },
        "id": "q_Q85XcUjxBZ",
        "outputId": "a0a0a4ca-e0f3-4819-9cc3-2cb6acad1592"
      },
      "execution_count": 20,
      "outputs": [
        {
          "output_type": "stream",
          "name": "stdout",
          "text": [
            ">>> Fitur .strip()\n",
            "halo, selamat malam!\n",
            "\n",
            ">>> Fitur .lstrip()\n",
            "halo, selamat malam! \n",
            "\n",
            ">>> Fitur .rstrip()\n",
            " halo, selamat malam!\n"
          ]
        }
      ]
    },
    {
      "cell_type": "code",
      "source": [
        "print(\">>> Fitur .capitalize()\")\n",
        "judul_buku = 'learning Python programming language.'\n",
        "print(judul_buku.capitalize())\n",
        "\n",
        "print('')\n",
        "print(\">>> Fitur .lower()\")\n",
        "judul_buku = 'Learning PYTHON Programming Language.'\n",
        "print(judul_buku.lower())\n",
        "\n",
        "print('')\n",
        "print(\">>> Fitur .upper()\")\n",
        "judul_buku = 'Learning PYTHON Programming Language.'\n",
        "print(judul_buku.upper())"
      ],
      "metadata": {
        "colab": {
          "base_uri": "https://localhost:8080/"
        },
        "id": "cgO-qHkymmFd",
        "outputId": "66a3f529-5148-46e3-9bfb-1eac02fbe7a9"
      },
      "execution_count": 21,
      "outputs": [
        {
          "output_type": "stream",
          "name": "stdout",
          "text": [
            ">>> Fitur .capitalize()\n",
            "Learning python programming language.\n",
            "\n",
            ">>> Fitur .lower()\n",
            "learning python programming language.\n",
            "\n",
            ">>> Fitur .upper()\n",
            "LEARNING PYTHON PROGRAMMING LANGUAGE.\n"
          ]
        }
      ]
    },
    {
      "cell_type": "code",
      "source": [
        "print(\">>> Fitur .split()\")\n",
        "frasa = \"fani and nia and olivia and nita and pita\"\n",
        "karakter = frasa.split(\"and\")\n",
        "print(karakter)\n",
        "kata = frasa.split(\" \")\n",
        "print(kata)\n",
        "\n",
        "\n",
        "print('')\n",
        "print(\">>> Fitur .join()\")\n",
        "pemisah = \" and \"\n",
        "karakter = [\"Adi\", \"Kinan\", \"Evan\"]\n",
        "frasa = pemisah.join(karakter)\n",
        "print(frasa)\n",
        "frasa = \" \".join(karakter)\n",
        "print(frasa)\n",
        "\n",
        "\n",
        "print('')\n",
        "print(\">>> Fitur .replace()\")\n",
        "frasa = \"apel malang apel yang paling segar, apel sehat, apel nikmat\"\n",
        "frasa = frasa.replace(\"apel\", \"tomat\")\n",
        "print(frasa)"
      ],
      "metadata": {
        "colab": {
          "base_uri": "https://localhost:8080/"
        },
        "id": "Z8irJNM_papG",
        "outputId": "60216c39-abbd-4a3a-9bbc-4fa31475197f"
      },
      "execution_count": 22,
      "outputs": [
        {
          "output_type": "stream",
          "name": "stdout",
          "text": [
            ">>> Fitur .split()\n",
            "['fani ', ' nia ', ' olivia ', ' nita ', ' pita']\n",
            "['fani', 'and', 'nia', 'and', 'olivia', 'and', 'nita', 'and', 'pita']\n",
            "\n",
            ">>> Fitur .join()\n",
            "Adi and Kinan and Evan\n",
            "Adi Kinan Evan\n",
            "\n",
            ">>> Fitur .replace()\n",
            "tomat malang tomat yang paling segar, tomat sehat, tomat nikmat\n"
          ]
        }
      ]
    },
    {
      "cell_type": "code",
      "source": [
        "teks = \"Apel malang adalah apel termanis dibanding apel-apel lainnya\"\n",
        "\n",
        "print(\">>> Fitur .find()\")\n",
        "print(teks.find(\"Apel\"))\n",
        "print(teks.find(\"termanis\"))\n",
        "\n",
        "print('')\n",
        "print(\">>> Fitur .count()\")\n",
        "kemunculan_kata_apel = teks.count(\"apel\")\n",
        "print(kemunculan_kata_apel)"
      ],
      "metadata": {
        "colab": {
          "base_uri": "https://localhost:8080/"
        },
        "id": "tgrK3Sixr0te",
        "outputId": "b103a5b2-4255-4200-9cc3-df9a31e128b8"
      },
      "execution_count": 23,
      "outputs": [
        {
          "output_type": "stream",
          "name": "stdout",
          "text": [
            ">>> Fitur .find()\n",
            "0\n",
            "24\n",
            "\n",
            ">>> Fitur .count()\n",
            "3\n"
          ]
        }
      ]
    },
    {
      "cell_type": "code",
      "source": [
        "print(\">>> Fitur .startswith()\")\n",
        "teks = \"Apel malang adalah apel termanis dibanding apel-apel lainnya\"\n",
        "print(teks.startswith(\"Apel\"))\n",
        "print(teks.startswith(\"apel\"))\n",
        "\n",
        "print('')\n",
        "print(\">>> Fitur .endswith()\")\n",
        "print(teks.endswith(\"lainnya\"))\n",
        "print(teks.endswith(\"apel\"))"
      ],
      "metadata": {
        "colab": {
          "base_uri": "https://localhost:8080/"
        },
        "id": "4pKGJfSmwBlS",
        "outputId": "d62044a1-a7fc-4906-98cd-e4b656ab856e"
      },
      "execution_count": 24,
      "outputs": [
        {
          "output_type": "stream",
          "name": "stdout",
          "text": [
            ">>> Fitur .startswith()\n",
            "True\n",
            "False\n",
            "\n",
            ">>> Fitur .endswith()\n",
            "True\n",
            "False\n"
          ]
        }
      ]
    },
    {
      "cell_type": "code",
      "source": [
        "judul_artikel = [\"Buah Salak Baik untuk Mata\", \"Buah Salak Kaya Potasium\",  \"Buah Jeruk Kaya Vitamin C\", \"Buah Salak Kaya Manfaat\", \"Salak Baik untuk Jantung\", \n",
        "                 \"Jeruk dapat Memperkuat Tulang\", \"Jeruk Mencegah Penyakit Asma\", \"Jeruk Memperkuat Gigi\", \"Jeruk Mencegah Kolesterol Jahat\",\n",
        "                 \"Salak Mencegah Diabetes\", \"Salak Memperkuat Dinding Usus\", \"Salak Baik untuk Darah\", \"Jeruk Kaya Manfaat untuk Jantung\", \n",
        "                 \"Salak si Kecil yang Baik\", \"Jeruk dan Salak Buah Kaya Manfaat\", \"Buah Jeruk Enak\",\"Tips Panen Jeruk Ribuan Kilo\", \"Tips Bertanam Salak\", \n",
        "                 \"Salak Manis untuk Berbuka\", \"Jeruk Baik untuk Wajah\"]\n",
        "\n",
        "jumlah_artikel_jeruk = 0\n",
        "jumlah_artikel_salak = 0\n",
        "for judul in judul_artikel:\n",
        "    if judul.count(\"Jeruk\") > 0: \n",
        "        jumlah_artikel_jeruk += 1\n",
        "    if judul.count(\"Salak\") > 0:\n",
        "        jumlah_artikel_salak += 1\n",
        "print('jumlah artikel tentang jeruk =', jumlah_artikel_jeruk) \n",
        "print('\\njumlah artikel tentang salak =', jumlah_artikel_salak)\n",
        "\n",
        "kata_positif = [\"Kaya\", \"Baik\", \"Mencegah\", \"Memperkuat\"]\n",
        "kata_positif_jeruk = 0\n",
        "kata_positif_salak = 0\n",
        "for judul in judul_artikel: \n",
        "    for kata in kata_positif:\n",
        "        if judul.count(\"Jeruk\") > 0 and judul.count(kata) > 0: \n",
        "            kata_positif_jeruk += 1\n",
        "        if judul.count(\"Salak\") > 0 and judul.count(kata) > 0:\n",
        "            kata_positif_salak += 1\n",
        "print('\\njumlah artikel positif tentang jeruk =', kata_positif_jeruk) \n",
        "print('\\njumlah artikel positif tentang salak =', kata_positif_salak)"
      ],
      "metadata": {
        "colab": {
          "base_uri": "https://localhost:8080/"
        },
        "id": "VwPZV24RxpHK",
        "outputId": "fb7edcea-5dd1-4980-facf-1a85ca60d81d"
      },
      "execution_count": 25,
      "outputs": [
        {
          "output_type": "stream",
          "name": "stdout",
          "text": [
            "jumlah artikel tentang jeruk = 10\n",
            "\n",
            "jumlah artikel tentang salak = 11\n",
            "\n",
            "jumlah artikel positif tentang jeruk = 8\n",
            "\n",
            "jumlah artikel positif tentang salak = 9\n"
          ]
        }
      ]
    }
  ]
}
