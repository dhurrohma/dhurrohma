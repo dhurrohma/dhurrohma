{
  "nbformat": 4,
  "nbformat_minor": 0,
  "metadata": {
    "colab": {
      "name": "Collection_Manipulation_with_Python.ipynb",
      "provenance": [],
      "collapsed_sections": [],
      "authorship_tag": "ABX9TyM0uNSTSxAF+nd2EmtgnFt0",
      "include_colab_link": true
    },
    "kernelspec": {
      "name": "python3",
      "display_name": "Python 3"
    },
    "language_info": {
      "name": "python"
    }
  },
  "cells": [
    {
      "cell_type": "markdown",
      "metadata": {
        "id": "view-in-github",
        "colab_type": "text"
      },
      "source": [
        "<a href=\"https://colab.research.google.com/github/dhurrohma/dhurrohma/blob/main/Collection_Manipulation_with_Python.ipynb\" target=\"_parent\"><img src=\"https://colab.research.google.com/assets/colab-badge.svg\" alt=\"Open In Colab\"/></a>"
      ]
    },
    {
      "cell_type": "code",
      "execution_count": null,
      "metadata": {
        "colab": {
          "base_uri": "https://localhost:8080/"
        },
        "id": "EtjOrUg-6rHY",
        "outputId": "233e23ff-ae14-4417-dd0d-e870526cdc3a"
      },
      "outputs": [
        {
          "output_type": "stream",
          "name": "stdout",
          "text": [
            "Januari\n",
            "Februari\n",
            "Oktober\n",
            "Desember\n"
          ]
        }
      ],
      "source": [
        "bulan = ('Januari', 'Februari', 'Maret', 'April', 'Mei', 'Juni', 'Juli', 'Agustus', 'September', 'Oktober', 'November', 'Desember')\n",
        "print(bulan[0])\n",
        "print(bulan[1])\n",
        "print(bulan[-3])\n",
        "print(bulan[-1])"
      ]
    },
    {
      "cell_type": "code",
      "source": [
        "bulan = ('Januari', 'Februari', 'Maret', 'April', 'Mei', 'Juni', 'Juli', 'Agustus', 'September', 'Oktober', 'November', 'Desember')\n",
        "spring = bulan[2:5]\n",
        "print('Musim semi:', spring)\n",
        "summer = bulan[5:8]\n",
        "print('Musim panas:', summer)\n",
        "autumn = bulan[-4:-1]\n",
        "print('Musim gugur:', autumn)\n",
        "winter = bulan[-1], bulan[0], bulan[1]\n",
        "print('Musim dingin:', winter)"
      ],
      "metadata": {
        "colab": {
          "base_uri": "https://localhost:8080/"
        },
        "id": "3j_V1FKoAELL",
        "outputId": "5ff8af42-ed73-4112-b89d-8c4633813492"
      },
      "execution_count": null,
      "outputs": [
        {
          "output_type": "stream",
          "name": "stdout",
          "text": [
            "Musim semi: ('Maret', 'April', 'Mei')\n",
            "Musim panas: ('Juni', 'Juli', 'Agustus')\n",
            "Musim gugur: ('September', 'Oktober', 'November')\n",
            "Musim dingin: ('Desember', 'Januari', 'Februari')\n"
          ]
        }
      ]
    },
    {
      "cell_type": "code",
      "source": [
        "food_menu = ['Seblak', 'Dendeng', 'Gado-gado']\n",
        "drink_menu = ['Air Putih', 'Es Kelapa Muda', 'Es Sari Tebu']\n",
        "menu = food_menu + drink_menu\n",
        "print(menu)"
      ],
      "metadata": {
        "colab": {
          "base_uri": "https://localhost:8080/"
        },
        "id": "pk-JakhjXJ27",
        "outputId": "3826df6b-99ae-4fe9-c1a8-69af04142bcf"
      },
      "execution_count": null,
      "outputs": [
        {
          "output_type": "stream",
          "name": "stdout",
          "text": [
            "['Seblak', 'Dendeng', 'Gado-gado', 'Air Putih', 'Es Kelapa Muda', 'Es Sari Tebu']\n"
          ]
        }
      ]
    },
    {
      "cell_type": "code",
      "source": [
        "print(\">>> Fitur .append()\")\n",
        "food1 = ['Emping', 'Sate', 'Ikan Goreng']\n",
        "food1.append('Nasi Kuning')\n",
        "print(food1)\n",
        "print('')\n",
        "print(\">>> Fitur .clear()\")\n",
        "food2 = ['Terong Balado', 'Empal Jagung', 'Rendang']\n",
        "food2.clear()\n",
        "print(food2)\n",
        "print('')\n",
        "print(\">>> Fitur .copy()\")\n",
        "food3 = ['Nasi Kuning', 'Emping', 'Terong Balado']\n",
        "food4 = food3.copy()\n",
        "food5 = food3\n",
        "food4.append('Tahu Gejrot')\n",
        "food5.append('Ayam Goreng')\n",
        "print(food3)\n",
        "print(food4)\n",
        "print('')\n",
        "print(\">>> Fitur .count()\")\n",
        "score = ['Rohma', 'Ina', 'Ina', 'Ina', 'Rohma', 'Ina', 'Ina', 'Rohma', 'Rohma', 'Rohma']\n",
        "score_Rohma = score.count('Rohma')\n",
        "score_Ina = score.count('Ina')\n",
        "print(score_Rohma)\n",
        "print(score_Ina)\n",
        "print('')\n",
        "print(\">>> Fitur .extend()\")\n",
        "makanan = ['Taco', 'Yakisoba', 'Udang Kremes']\n",
        "minuman = ['koktail', 'Berry Milk', 'Es Teh']\n",
        "makanan.extend(minuman)\n",
        "print(makanan)\n",
        "print('')\n",
        "print(\">>> Fitur .index()\")\n",
        "nilai1 = ['Lana', 'Ina', 'Ina', 'Ina', 'Lana', 'Lana', 'Lana', 'Ina', 'Lana', 'Ina']\n",
        "nilai_pertama_Ina = nilai1.index('Ina') + 1\n",
        "print(nilai_pertama_Ina)\n",
        "print('')\n",
        "print(\">>> Fitur .insert()\")\n",
        "nilai2 = ['Tono', 'Eko', 'Eko', 'Eko', 'Tono']\n",
        "nilai2.insert(2, 'Tono')\n",
        "print(nilai2)\n",
        "print('')\n",
        "print(\">>> Fitur .pop()\")\n",
        "menu1 = ['Es Dawet', 'Ikan goreng', 'Taco', 'Es Teh', 'Es Krim']\n",
        "menu1.pop(2)\n",
        "print(menu1)\n",
        "print('')\n",
        "print(\">>> Fitur .remove()\")\n",
        "menu2 = ['Ayam Goreng', 'Air Putih', 'Tahu Gejrot', 'Jus Alpukat', 'Udang Kremes']\n",
        "menu2.remove('Tahu Gejrot')\n",
        "print(menu2)\n",
        "print('')\n",
        "print(\">>> Fitur .reverse()\")\n",
        "menu3 = ['Fuyunghai', 'Es Cendol', 'Es Kelapa Muda', 'Ayam Goreng', 'Jus Mangga']\n",
        "menu3.reverse()\n",
        "print(menu3)\n",
        "print('')\n",
        "print(\">>> Fitur .sort()\")\n",
        "menu4 = ['Udang Kremes', 'Es teh', 'Dendeng', 'Gulai Kambing', 'Air Putih']\n",
        "menu4.sort()\n",
        "print(menu4)\n",
        "menu4.sort(reverse=True)\n",
        "print(menu4)"
      ],
      "metadata": {
        "colab": {
          "base_uri": "https://localhost:8080/"
        },
        "id": "G0B9PhmBcF0j",
        "outputId": "601d68dd-a3dd-4a8b-dc69-e621f34d1185"
      },
      "execution_count": null,
      "outputs": [
        {
          "output_type": "stream",
          "name": "stdout",
          "text": [
            ">>> Fitur .append()\n",
            "['Emping', 'Sate', 'Ikan Goreng', 'Nasi Kuning']\n",
            "\n",
            ">>> Fitur .clear()\n",
            "[]\n",
            "\n",
            ">>> Fitur .copy()\n",
            "['Nasi Kuning', 'Emping', 'Terong Balado', 'Ayam Goreng']\n",
            "['Nasi Kuning', 'Emping', 'Terong Balado', 'Tahu Gejrot']\n",
            "\n",
            ">>> Fitur .count()\n",
            "5\n",
            "5\n",
            "\n",
            ">>> Fitur .extend()\n",
            "['Taco', 'Yakisoba', 'Udang Kremes', 'koktail', 'Berry Milk', 'Es Teh']\n",
            "\n",
            ">>> Fitur .index()\n",
            "2\n",
            "\n",
            ">>> Fitur .insert()\n",
            "['Tono', 'Eko', 'Tono', 'Eko', 'Eko', 'Tono']\n",
            "\n",
            ">>> Fitur .pop()\n",
            "['Es Dawet', 'Ikan goreng', 'Es Teh', 'Es Krim']\n",
            "\n",
            ">>> Fitur .remove()\n",
            "['Ayam Goreng', 'Air Putih', 'Jus Alpukat', 'Udang Kremes']\n",
            "\n",
            ">>> Fitur .reverse()\n",
            "['Jus Mangga', 'Ayam Goreng', 'Es Kelapa Muda', 'Es Cendol', 'Fuyunghai']\n",
            "\n",
            ">>> Fitur .sort()\n",
            "['Air Putih', 'Dendeng', 'Es teh', 'Gulai Kambing', 'Udang Kremes']\n",
            "['Udang Kremes', 'Gulai Kambing', 'Es teh', 'Dendeng', 'Air Putih']\n"
          ]
        }
      ]
    },
    {
      "cell_type": "code",
      "source": [
        "print(\">>> Fitur .count()\")\n",
        "tuple_score = ('Kinan', 'Sandra', 'Kinan', 'Kinan', 'Kinan', 'Sandra', 'Sandra', 'Kinan', 'Sandra', 'Sandra')\n",
        "score_Kinan = tuple_score.count('Kinan')\n",
        "score_Sandra = tuple_score.count('Sandra')\n",
        "print(score_Kinan) \n",
        "print(score_Sandra) \n",
        "print('')\n",
        "print(\">>> Fitur .index()\")\n",
        "tuple_score = ('Eko','Tono','Tono','Eko','Tono','Eko','Tono', 'Tono', 'Eko', 'Tono')\n",
        "score_pertama_Tono = tuple_score.index('Tono') + 1\n",
        "print(score_pertama_Tono)"
      ],
      "metadata": {
        "colab": {
          "base_uri": "https://localhost:8080/"
        },
        "id": "rVzEQok62K76",
        "outputId": "95ce9977-4a69-451a-fa24-4ef5dabb65e7"
      },
      "execution_count": null,
      "outputs": [
        {
          "output_type": "stream",
          "name": "stdout",
          "text": [
            ">>> Fitur .count()\n",
            "5\n",
            "5\n",
            "\n",
            ">>> Fitur .index()\n",
            "2\n"
          ]
        }
      ]
    },
    {
      "cell_type": "code",
      "source": [
        "print(\">>> Fitur .add()\")\n",
        "set_buah1 = {'Anggur', 'Kakao', 'Melon', 'Timun', 'Blueberry'}\n",
        "set_buah1.add('Mengkudu')\n",
        "print(set_buah1)\n",
        "print('')\n",
        "print(\">>> Fitur .clear()\")\n",
        "set_buah2 = {'Kakao','Belimbing','Lemon', 'Langsat', 'Manggis'}\n",
        "set_buah2.clear()\n",
        "print(set_buah2)\n",
        "print('')\n",
        "print(\">>> Fitur .copy()\")\n",
        "set_buah3 = {'Pepaya','Anggur','Kakao', 'Lemon', 'Timun'}\n",
        "set_buah4 = set_buah3\n",
        "set_buah5 = set_buah3.copy()\n",
        "set_buah4.add('Manggis')\n",
        "set_buah5.add('Nanas')\n",
        "print(set_buah3)\n",
        "print(set_buah4)\n",
        "print('')\n",
        "print(\">>> Fitur .update()\")\n",
        "parcel1 = {'Timun','Melon','Rambutan'}\n",
        "parcel2 = {'Nanas','Lemon','Tin'}\n",
        "parcel1.update(parcel2)\n",
        "print(parcel1)\n",
        "print('')\n",
        "print(\">>> Fitur .pop()\")\n",
        "parcel3 = {'Delima','Manggis','Timun', 'Semangka', 'Melon'}\n",
        "buah = parcel3.pop()\n",
        "print(buah)\n",
        "print(parcel3)\n",
        "print('')\n",
        "print(\">>> Fitur .remove()\")\n",
        "parcel4 = {'Langsat','Mangga','Melon'}\n",
        "parcel4.remove('Mangga')\n",
        "print(parcel4)\n",
        "print('')\n",
        "print(\">>> Fitur .union()\")\n",
        "parcel5 = {'Salak','Jeruk','Anggur'}\n",
        "parcel6 = {'Anggur','Langsat','Timun'}\n",
        "parcel7 = parcel5.union(parcel6)\n",
        "print(parcel5)\n",
        "print(parcel7)\n",
        "print('')\n",
        "print(\">>> Fitur .isdisjoint()\")\n",
        "parcel8 = {'Anggur','Jeruk','Ceri'}\n",
        "parcel9 = {'Raspberry','Cempedak','Kiwi'}\n",
        "parcel10 = {'Anggur','Manggis','Jeruk'}\n",
        "parcel8_parcel9_disjoint = parcel8.isdisjoint(parcel9)\n",
        "print(parcel8_parcel9_disjoint)\n",
        "parcel8_parcel10_disjoint = parcel8.isdisjoint(parcel10)\n",
        "print(parcel8_parcel10_disjoint)\n",
        "print('')\n",
        "print(\">>> Fitur .issubset()\")\n",
        "parcel_A = {'Salak', 'Delima'}\n",
        "parcel_B = {'Grapefruit','Anggur','Kiwi'}\n",
        "parcel_C = {'Salak', 'Delima', 'Semangka', 'Kiwi', 'Nanas'}\n",
        "parcel_A_dalam_C = parcel_A.issubset(parcel_C)\n",
        "parcel_B_dalam_C = parcel_B.issubset(parcel_C)\n",
        "print(parcel_A_dalam_C)\n",
        "print(parcel_B_dalam_C)\n",
        "print('')\n",
        "print(\">>> Fitur .issuperset()\")\n",
        "parcel_C_mengandung_A = parcel_C.issuperset(parcel_A)\n",
        "parcel_C_mengandung_B = parcel_C.issuperset(parcel_B)\n",
        "print(parcel_C_mengandung_A)\n",
        "print(parcel_C_mengandung_B)\n",
        "print('')\n",
        "print(\">>> Fitur .intersection()\")\n",
        "parcel_D = {'Timun', 'Blueberry', 'Kiwi', 'Belimbing', 'Delima'}\n",
        "parcel_E = {'Langsat', 'Delima', 'Pepaya', 'Anggur', 'Kiwi'}\n",
        "parcel_F = parcel_D.intersection(parcel_E)\n",
        "print(parcel_F)\n",
        "print('')\n",
        "print(\">>> Fitur .difference()\")\n",
        "parcel_G = parcel_D.difference(parcel_E)\n",
        "print(parcel_G)\n",
        "print('')\n",
        "print(\">>> Fitur .symmetric_difference()\")\n",
        "parcel_H = {'Delima', 'Timun', 'Kiwi', 'Nanas'}\n",
        "parcel_I = {'Tomat','Delima','Rambutan','Nanas'}\n",
        "parcel_J = parcel_H.symmetric_difference(parcel_I)\n",
        "print(parcel_J)"
      ],
      "metadata": {
        "colab": {
          "base_uri": "https://localhost:8080/"
        },
        "id": "9cdh42E74sd0",
        "outputId": "95bbc938-9bfc-4246-cc2c-fc08d7174377"
      },
      "execution_count": null,
      "outputs": [
        {
          "output_type": "stream",
          "name": "stdout",
          "text": [
            ">>> Fitur .add()\n",
            "{'Anggur', 'Timun', 'Blueberry', 'Melon', 'Kakao', 'Mengkudu'}\n",
            "\n",
            ">>> Fitur .clear()\n",
            "set()\n",
            "\n",
            ">>> Fitur .copy()\n",
            "{'Anggur', 'Timun', 'Lemon', 'Manggis', 'Kakao', 'Pepaya'}\n",
            "{'Anggur', 'Timun', 'Lemon', 'Manggis', 'Kakao', 'Pepaya'}\n",
            "\n",
            ">>> Fitur .update()\n",
            "{'Melon', 'Timun', 'Nanas', 'Tin', 'Lemon', 'Rambutan'}\n",
            "\n",
            ">>> Fitur .pop()\n",
            "Timun\n",
            "{'Semangka', 'Manggis', 'Melon', 'Delima'}\n",
            "\n",
            ">>> Fitur .remove()\n",
            "{'Langsat', 'Melon'}\n",
            "\n",
            ">>> Fitur .union()\n",
            "{'Salak', 'Anggur', 'Jeruk'}\n",
            "{'Salak', 'Anggur', 'Timun', 'Langsat', 'Jeruk'}\n",
            "\n",
            ">>> Fitur .isdisjoint()\n",
            "True\n",
            "False\n",
            "\n",
            ">>> Fitur .issubset()\n",
            "True\n",
            "False\n",
            "\n",
            ">>> Fitur .issuperset()\n",
            "True\n",
            "False\n",
            "\n",
            ">>> Fitur .intersection()\n",
            "{'Delima', 'Kiwi'}\n",
            "\n",
            ">>> Fitur .difference()\n",
            "{'Blueberry', 'Timun', 'Belimbing'}\n",
            "\n",
            ">>> Fitur .symmetric_difference()\n",
            "{'Timun', 'Tomat', 'Kiwi', 'Rambutan'}\n"
          ]
        }
      ]
    },
    {
      "cell_type": "code",
      "source": [
        "print(\">>> Fitur .clear()\")\n",
        "info_karyawan = {'nama' : 'Eka',\n",
        "                 'no_id' : '204920',\n",
        "                 'pekerjaan' : 'Supervisor'}\n",
        "info_karyawan.clear()\n",
        "print(info_karyawan)\n",
        "print('')\n",
        "print(\">>> Fitur .copy()\")\n",
        "info_karyawan1 = {'nama' : 'Eka',\n",
        "                  'no_id' : '204920',\n",
        "                  'pekerjaan' : 'Supervisor'}\n",
        "info_karyawan2 = info_karyawan1.copy()\n",
        "info_karyawan2['nama'] = 'Lina'\n",
        "info_karyawan2['no_id'] = '135209'\n",
        "print(info_karyawan1)\n",
        "print(info_karyawan2)\n",
        "print('')\n",
        "print(\">>> Fitur .keys()\")\n",
        "info_karyawan = {'nama' : 'Eka',\n",
        "                 'no_id' : '204920',\n",
        "                 'pekerjaan' : 'Supervisor'}\n",
        "kunci_akses = list(info_karyawan.keys())\n",
        "print(kunci_akses)\n",
        "print('')\n",
        "print(\">>> Fitur .values()\")\n",
        "value_dict = list(info_karyawan.values())\n",
        "print(value_dict)\n",
        "print('')\n",
        "print(\">>> Fitur .update()\")\n",
        "info_karyawan.update({'skillset':['Python', 'SQL']})\n",
        "print(info_karyawan)"
      ],
      "metadata": {
        "colab": {
          "base_uri": "https://localhost:8080/"
        },
        "id": "mmpr6ow_FRMW",
        "outputId": "8cb01b00-0bd5-4d89-ad52-07f6e36991e6"
      },
      "execution_count": null,
      "outputs": [
        {
          "output_type": "stream",
          "name": "stdout",
          "text": [
            ">>> Fitur .clear()\n",
            "{}\n",
            "\n",
            ">>> Fitur .copy()\n",
            "{'nama': 'Eka', 'no_id': '204920', 'pekerjaan': 'Supervisor'}\n",
            "{'nama': 'Lina', 'no_id': '135209', 'pekerjaan': 'Supervisor'}\n",
            "\n",
            ">>> Fitur .keys()\n",
            "['nama', 'no_id', 'pekerjaan']\n",
            "\n",
            ">>> Fitur .values()\n",
            "['Eka', '204920', 'Supervisor']\n",
            "\n",
            ">>> Fitur .update()\n",
            "{'nama': 'Eka', 'no_id': '204920', 'pekerjaan': 'Supervisor', 'skillset': ['Python', 'SQL']}\n"
          ]
        }
      ]
    },
    {
      "cell_type": "code",
      "source": [
        "# Tuple\n",
        "print(\">>> Tuple\")\n",
        "tuple_menu = ('Lele Goreng','Ayam Geprek','Air Putih','Tumis Kangkung')\n",
        "jumlah_menu = len(tuple_menu)\n",
        "print(jumlah_menu)\n",
        "# List\n",
        "print(\">>> List\")\n",
        "list_menu = ['Lele Goreng','Ayam Geprek','Air Putih','Tumis Kangkung']\n",
        "jumlah_menu = len(list_menu)\n",
        "print(jumlah_menu)\n",
        "print('')\n",
        "# Konversi tipe data\n",
        "print(\">>> Konversi tipe data\")\n",
        "list_buah = ['Anggur', 'Anggur', 'Cherry', 'Anggur', 'Cherry', 'Kiwi', 'Anggur']\n",
        "set_buah = set(list_buah)\n",
        "print(set_buah)\n",
        "list_buah = list(set_buah)\n",
        "list_buah.sort()\n",
        "print(list_buah)"
      ],
      "metadata": {
        "colab": {
          "base_uri": "https://localhost:8080/"
        },
        "id": "OjgonF8ZdU0a",
        "outputId": "4eeb6daf-1a14-4e2e-ff6a-3b2994d6b042"
      },
      "execution_count": null,
      "outputs": [
        {
          "output_type": "stream",
          "name": "stdout",
          "text": [
            ">>> Tuple\n",
            "4\n",
            ">>> List\n",
            "4\n",
            "\n",
            ">>> Konversi tipe data\n",
            "{'Anggur', 'Cherry', 'Kiwi'}\n",
            "['Anggur', 'Cherry', 'Kiwi']\n"
          ]
        }
      ]
    },
    {
      "cell_type": "code",
      "source": [
        "# Data keuangan\n",
        "keuangan = {'pengeluaran': [1300000, 2100000, 1900000, 400000, 700000, 100000, 1100000],\n",
        "            'pemasukan': [1900000, 500000, 1900000, 900000, 1400000, 2000000, 500000]}\n",
        "# Perhitungan rata-rata pemasukan dan rata-rata pengeluaran\n",
        "total_pengeluaran = 0\n",
        "total_pemasukan = 0\n",
        "for biaya in keuangan['pengeluaran']: \n",
        "    total_pengeluaran += biaya\n",
        "for biaya in keuangan['pemasukan']: \n",
        "    total_pemasukan += biaya\n",
        "rata_rata_pengeluaran = total_pengeluaran/len(keuangan['pengeluaran'])\n",
        "rata_rata_pemasukan = total_pemasukan/len(keuangan['pemasukan'])\n",
        "print('Rata-rata Pengeluaran =', rata_rata_pengeluaran) \n",
        "print('Rata-rata Pemasukan =', rata_rata_pemasukan)"
      ],
      "metadata": {
        "colab": {
          "base_uri": "https://localhost:8080/"
        },
        "id": "oUZAZ5SlkAgM",
        "outputId": "84aa272b-fc61-4e46-9e7b-27821530bcde"
      },
      "execution_count": null,
      "outputs": [
        {
          "output_type": "stream",
          "name": "stdout",
          "text": [
            "Rata-rata Pengeluaran = 1085714.2857142857\n",
            "Rata-rata Pemasukan = 1300000.0\n"
          ]
        }
      ]
    }
  ]
}
