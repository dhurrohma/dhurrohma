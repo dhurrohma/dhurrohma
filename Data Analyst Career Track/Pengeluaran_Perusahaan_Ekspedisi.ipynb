{
  "nbformat": 4,
  "nbformat_minor": 0,
  "metadata": {
    "colab": {
      "name": "Pengeluaran_Perusahaan_Ekspedisi.ipynb",
      "provenance": [],
      "collapsed_sections": [],
      "authorship_tag": "ABX9TyPxIbXH7Sm9xlKY/ymSs6PT",
      "include_colab_link": true
    },
    "kernelspec": {
      "name": "python3",
      "display_name": "Python 3"
    },
    "language_info": {
      "name": "python"
    }
  },
  "cells": [
    {
      "cell_type": "markdown",
      "metadata": {
        "id": "view-in-github",
        "colab_type": "text"
      },
      "source": [
        "<a href=\"https://colab.research.google.com/github/dhurrohma/dhurrohma/blob/main/Pengeluaran_Perusahaan_Ekspedisi.ipynb\" target=\"_parent\"><img src=\"https://colab.research.google.com/assets/colab-badge.svg\" alt=\"Open In Colab\"/></a>"
      ]
    },
    {
      "cell_type": "code",
      "execution_count": 3,
      "metadata": {
        "colab": {
          "base_uri": "https://localhost:8080/"
        },
        "id": "GQc3p6A4r05q",
        "outputId": "dc80acbf-65f1-4fdb-86cf-d773be09a27e"
      },
      "outputs": [
        {
          "output_type": "stream",
          "name": "stdout",
          "text": [
            "Pengeluaran dalam sebulan:\n",
            "216000000\n"
          ]
        }
      ],
      "source": [
        "# Data\n",
        "uang_jalan = 2000000\n",
        "jumlah_hari = 31\n",
        "list_plat_nomor = [1994, 5412, 1441, 9991, 5030, 6192, 2911]\n",
        "# Pengecekan kendaraan dengan nomor pelat ganjil atau genap \n",
        "# Deklarasikan kendaraan_genap dan kendaraan_ganjil = 0\n",
        "kendaraan_genap = 0 \n",
        "kendaraan_ganjil = 0\n",
        "for plat_nomor in list_plat_nomor:\n",
        "    if plat_nomor % 2 == 0:\n",
        "        kendaraan_genap += 1 \n",
        "    else:\n",
        "        kendaraan_ganjil += 1\n",
        "# Total pengeluaran untuk kendaraan dengan nomor pelat ganjil \n",
        "# dan genap dalam 1 bulan\n",
        "i = 1\n",
        "total_pengeluaran = 0\n",
        "while i <= jumlah_hari:\n",
        "    if i % 2 == 0:\n",
        "        total_pengeluaran += (kendaraan_genap * uang_jalan)\n",
        "    else:\n",
        "        total_pengeluaran += (kendaraan_ganjil * uang_jalan) \n",
        "    i += 1\n",
        "# Cetak total pengeluaran\n",
        "print('Pengeluaran dalam sebulan:')\n",
        "print(total_pengeluaran)"
      ]
    }
  ]
}
