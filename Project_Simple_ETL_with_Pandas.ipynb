{
  "nbformat": 4,
  "nbformat_minor": 0,
  "metadata": {
    "colab": {
      "name": "Project_Simple_ETL_with_Pandas.ipynb",
      "provenance": [],
      "collapsed_sections": [],
      "authorship_tag": "ABX9TyMMZ+xiUdOwRY7jbgis6R/3",
      "include_colab_link": true
    },
    "kernelspec": {
      "name": "python3",
      "display_name": "Python 3"
    },
    "language_info": {
      "name": "python"
    }
  },
  "cells": [
    {
      "cell_type": "markdown",
      "metadata": {
        "id": "view-in-github",
        "colab_type": "text"
      },
      "source": [
        "<a href=\"https://colab.research.google.com/github/dhurrohma/dhurrohma/blob/main/Project_Simple_ETL_with_Pandas.ipynb\" target=\"_parent\"><img src=\"https://colab.research.google.com/assets/colab-badge.svg\" alt=\"Open In Colab\"/></a>"
      ]
    },
    {
      "cell_type": "markdown",
      "source": [
        "IMPORT"
      ],
      "metadata": {
        "id": "mfkobRS51cAQ"
      }
    },
    {
      "cell_type": "code",
      "source": [
        "import pandas as pd\n",
        "df_participant = pd.read_csv('https://storage.googleapis.com/dqlab-dataset/dqthon-participants.csv')"
      ],
      "metadata": {
        "id": "GgUc87bT1ZMN"
      },
      "execution_count": 1,
      "outputs": []
    },
    {
      "cell_type": "markdown",
      "source": [
        "TRANSFORM BAGIAN I - KODE POS"
      ],
      "metadata": {
        "id": "vgETvvXg3WZQ"
      }
    },
    {
      "cell_type": "code",
      "source": [
        "df_participant['postal_code'] = df_participant['address'].str.extract(r'(\\d+)$') #Masukkan regex Anda didalam fungsi extract"
      ],
      "metadata": {
        "id": "ZejYo2Ss3Zz6"
      },
      "execution_count": 2,
      "outputs": []
    },
    {
      "cell_type": "markdown",
      "source": [
        "TRANSFORM BAGIAN II - KOTA"
      ],
      "metadata": {
        "id": "drHUq15N33Sm"
      }
    },
    {
      "cell_type": "code",
      "source": [
        "df_participant['city'] = df_participant['address'].str.extract(r'(?<=\\n)(\\w.+)(?=,)')"
      ],
      "metadata": {
        "id": "HNCqem6I-HOM"
      },
      "execution_count": 3,
      "outputs": []
    },
    {
      "cell_type": "markdown",
      "source": [
        "TRANSFORM BAGIAN III - GITHUB"
      ],
      "metadata": {
        "id": "v5jYBT2K-dQe"
      }
    },
    {
      "cell_type": "code",
      "source": [
        "df_participant['github_profile'] = 'https://github.com' + df_participant['first_name'].str.lower() + df_participant['last_name'].str.lower()"
      ],
      "metadata": {
        "id": "RXuxu3cB-oQh"
      },
      "execution_count": 4,
      "outputs": []
    },
    {
      "cell_type": "markdown",
      "source": [
        "TRANSFORM BAGIAN IV - NOMOR HANDPHONE"
      ],
      "metadata": {
        "id": "tQOAYjwDAz2X"
      }
    },
    {
      "cell_type": "code",
      "source": [
        "#Masukkan regex anda pada parameter pertama dari fungsi replace\n",
        "df_participant['cleaned_phone_number'] = df_participant['phone_number'].str.replace(r'^(\\+62|62)', '0')\n",
        "df_participant['cleaned_phone_number'] = df_participant['cleaned_phone_number'].str.replace(r'[()-]', '')\n",
        "df_participant['cleaned_phone_number'] = df_participant['cleaned_phone_number'].str.replace(r'\\s+', '')"
      ],
      "metadata": {
        "colab": {
          "base_uri": "https://localhost:8080/"
        },
        "id": "xf732qhZCMjx",
        "outputId": "4a1f2ff1-b41e-4de0-d08e-f891ca13ff49"
      },
      "execution_count": 9,
      "outputs": [
        {
          "output_type": "stream",
          "name": "stderr",
          "text": [
            "/usr/local/lib/python3.7/dist-packages/ipykernel_launcher.py:2: FutureWarning: The default value of regex will change from True to False in a future version.\n",
            "  \n",
            "/usr/local/lib/python3.7/dist-packages/ipykernel_launcher.py:3: FutureWarning: The default value of regex will change from True to False in a future version.\n",
            "  This is separate from the ipykernel package so we can avoid doing imports until\n",
            "/usr/local/lib/python3.7/dist-packages/ipykernel_launcher.py:4: FutureWarning: The default value of regex will change from True to False in a future version.\n",
            "  after removing the cwd from sys.path.\n"
          ]
        }
      ]
    },
    {
      "cell_type": "markdown",
      "source": [
        "TRANSFORM BAGIAN V - NAMA TIM"
      ],
      "metadata": {
        "id": "h8x3cnNLJifa"
      }
    },
    {
      "cell_type": "code",
      "source": [
        "def func(col):\n",
        "    abbrev_name = \"%s%s\"%(col['first_name'][0],col['last_name'][0]) #Singkatan dari Nama Depan dan Nama Belakang dengan mengambil huruf pertama\n",
        "    country = col['country']\n",
        "    abbrev_institute = '%s'%(''.join(list(map(lambda word: word[0], col['institute'].split())))) #Singkatan dari value di kolom institute\n",
        "    return \"%s-%s-%s\"%(abbrev_name,country,abbrev_institute)\n",
        "\n",
        "df_participant['team_name'] = df_participant.apply(func, axis=1)"
      ],
      "metadata": {
        "id": "5xBtS8p7NRze"
      },
      "execution_count": 10,
      "outputs": []
    },
    {
      "cell_type": "markdown",
      "source": [
        "TRANSFORM BAGIAN VI - EMAIL"
      ],
      "metadata": {
        "id": "LSKrvaISOYfa"
      }
    },
    {
      "cell_type": "code",
      "source": [
        "def func(col):\n",
        "    first_name_lower = col['first_name'].lower()\n",
        "    last_name_lower = col['last_name'].lower()\n",
        "    institute = ''.join(list(map(lambda word: word[0], col['institute'].lower().split()))) #Singkatan dari nama perusahaan dalam lowercase\n",
        "\n",
        "    if 'Universitas' in col['institute']:\n",
        "        if len(col['country'].split()) > 1: #Kondisi untuk mengecek apakah jumlah kata dari country lebih dari 1\n",
        "            country = ''.join(list(map(lambda word: word[0], col['country'].lower().split())))\n",
        "        else:\n",
        "            country = col['country'][:3].lower()\n",
        "        return \"%s%s@%s.ac.%s\"%(first_name_lower,last_name_lower,institute,country)\n",
        "\n",
        "    return \"%s%s@%s.com\"%(first_name_lower,last_name_lower,institute)\n",
        "\n",
        "df_participant['email'] = df_participant.apply(func, axis=1)"
      ],
      "metadata": {
        "id": "BH8qEln3Oc0-"
      },
      "execution_count": 11,
      "outputs": []
    },
    {
      "cell_type": "markdown",
      "source": [
        "TRANSFORM BAGIAN VII - TANGGAL LAHIR"
      ],
      "metadata": {
        "id": "KsvNR5y1VabU"
      }
    },
    {
      "cell_type": "code",
      "source": [
        "df_participant['birth_date'] = pd.to_datetime(df_participant['birth_date'], format = '%d %b %Y')"
      ],
      "metadata": {
        "id": "ftmmMY9nVdsA"
      },
      "execution_count": 13,
      "outputs": []
    },
    {
      "cell_type": "markdown",
      "source": [
        "TRANSFORM BAGIAN VIII - TANGGAL DAFTAR KOMPETISI"
      ],
      "metadata": {
        "id": "pp2WaKTWWDNI"
      }
    },
    {
      "cell_type": "code",
      "source": [
        "df_participant['register_at'] = pd.to_datetime(df_participant['register_time'], unit = 's')"
      ],
      "metadata": {
        "id": "2oyi_7iVXXjh"
      },
      "execution_count": 14,
      "outputs": []
    },
    {
      "cell_type": "code",
      "source": [
        "print('Info df_participant:\\n', df_participant.info())\n",
        "print('\\nKode Pos Partisipan:\\n', df_participant[['first_name', 'last_name', 'postal_code']].head())\n",
        "print('\\nDomisili Partisipan:\\n', df_participant[['first_name', 'last_name', 'city']].head())\n",
        "print('\\nAkun Github:\\n', df_participant[['first_name', 'last_name', 'github_profile']].head())\n",
        "print('\\nNomor Handphone Sesuai Fromat:\\n', df_participant[['first_name', 'last_name', 'cleaned_phone_number']].head())\n",
        "print('\\nNama Team:\\n', df_participant[['first_name', 'last_name', 'team_name']].head())\n",
        "print('\\nDaftar Email:\\n', df_participant[['first_name', 'last_name', 'email']].head())\n",
        "print('\\nTanggal Lahir:\\n', df_participant[['first_name', 'last_name', 'birth_date']].head())\n",
        "print('\\nTanggal Mendaftar:\\n', df_participant[['first_name', 'last_name', 'register_at']].head())\n"
      ],
      "metadata": {
        "colab": {
          "base_uri": "https://localhost:8080/"
        },
        "id": "FN00YgMiY1wh",
        "outputId": "8c3fa4d5-93ca-45ba-da1a-d249e7d52dbc"
      },
      "execution_count": 26,
      "outputs": [
        {
          "output_type": "stream",
          "name": "stdout",
          "text": [
            "<class 'pandas.core.frame.DataFrame'>\n",
            "RangeIndex: 5000 entries, 0 to 4999\n",
            "Data columns (total 17 columns):\n",
            " #   Column                Non-Null Count  Dtype         \n",
            "---  ------                --------------  -----         \n",
            " 0   participant_id        5000 non-null   object        \n",
            " 1   first_name            5000 non-null   object        \n",
            " 2   last_name             5000 non-null   object        \n",
            " 3   birth_date            5000 non-null   datetime64[ns]\n",
            " 4   address               5000 non-null   object        \n",
            " 5   phone_number          5000 non-null   object        \n",
            " 6   country               5000 non-null   object        \n",
            " 7   institute             5000 non-null   object        \n",
            " 8   occupation            5000 non-null   object        \n",
            " 9   register_time         5000 non-null   float64       \n",
            " 10  postal_code           5000 non-null   object        \n",
            " 11  city                  5000 non-null   object        \n",
            " 12  github_profile        5000 non-null   object        \n",
            " 13  cleaned_phone_number  5000 non-null   object        \n",
            " 14  team_name             5000 non-null   object        \n",
            " 15  email                 5000 non-null   object        \n",
            " 16  register_at           5000 non-null   datetime64[ns]\n",
            "dtypes: datetime64[ns](2), float64(1), object(14)\n",
            "memory usage: 664.2+ KB\n",
            "Info df_participant:\n",
            " None\n",
            "\n",
            "Kode Pos Partisipan:\n",
            "   first_name   last_name postal_code\n",
            "0      Citra  Nurdiyanti       80734\n",
            "1       Aris    Setiawan       09434\n",
            "2   Cornelia   Handayani       57739\n",
            "3      Soleh      Rajasa       76156\n",
            "4       Vivi      Astuti       70074\n",
            "\n",
            "Domisili Partisipan:\n",
            "   first_name   last_name          city\n",
            "0      Citra  Nurdiyanti         Medan\n",
            "1       Aris    Setiawan    Prabumulih\n",
            "2   Cornelia   Handayani         Ambon\n",
            "3      Soleh      Rajasa  Lubuklinggau\n",
            "4       Vivi      Astuti        Kediri\n",
            "\n",
            "Akun Github:\n",
            "   first_name   last_name                       github_profile\n",
            "0      Citra  Nurdiyanti    https://github.comcitranurdiyanti\n",
            "1       Aris    Setiawan       https://github.comarissetiawan\n",
            "2   Cornelia   Handayani  https://github.comcorneliahandayani\n",
            "3      Soleh      Rajasa        https://github.comsolehrajasa\n",
            "4       Vivi      Astuti         https://github.comviviastuti\n",
            "\n",
            "Nomor Handphone Sesuai Fromat:\n",
            "   first_name   last_name cleaned_phone_number\n",
            "0      Citra  Nurdiyanti          01510812706\n",
            "1       Aris    Setiawan          00364617027\n",
            "2   Cornelia   Handayani           0898336695\n",
            "3      Soleh      Rajasa          04183294756\n",
            "4       Vivi      Astuti           0812511835\n",
            "\n",
            "Nama Team:\n",
            "   first_name   last_name          team_name\n",
            "0      Citra  Nurdiyanti     CN-Georgia-UPM\n",
            "1       Aris    Setiawan  AS-Korea Utara-UD\n",
            "2   Cornelia   Handayani      CH-Komoro-UHP\n",
            "3      Soleh      Rajasa     SR-Eritrea-PTY\n",
            "4       Vivi      Astuti    VA-Aljazair-PHR\n",
            "\n",
            "Daftar Email:\n",
            "   first_name   last_name                      email\n",
            "0      Citra  Nurdiyanti    citranurdiyanti@upm.com\n",
            "1       Aris    Setiawan      arissetiawan@ud.ac.ku\n",
            "2   Cornelia   Handayani  corneliahandayani@uhp.com\n",
            "3      Soleh      Rajasa        solehrajasa@pty.com\n",
            "4       Vivi      Astuti         viviastuti@phr.com\n",
            "\n",
            "Tanggal Lahir:\n",
            "   first_name   last_name birth_date\n",
            "0      Citra  Nurdiyanti 1991-02-05\n",
            "1       Aris    Setiawan 1993-01-11\n",
            "2   Cornelia   Handayani 1993-07-31\n",
            "3      Soleh      Rajasa 1991-11-04\n",
            "4       Vivi      Astuti 2003-01-22\n",
            "\n",
            "Tanggal Mendaftar:\n",
            "   first_name   last_name         register_at\n",
            "0      Citra  Nurdiyanti 2021-04-05 14:47:26\n",
            "1       Aris    Setiawan 2021-04-05 14:46:58\n",
            "2   Cornelia   Handayani 2021-04-05 14:47:15\n",
            "3      Soleh      Rajasa 2021-04-05 14:47:14\n",
            "4       Vivi      Astuti 2021-04-05 14:46:50\n"
          ]
        }
      ]
    }
  ]
}